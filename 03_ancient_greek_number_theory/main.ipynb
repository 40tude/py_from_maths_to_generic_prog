{
 "cells": [
  {
   "cell_type": "code",
   "execution_count": null,
   "metadata": {},
   "outputs": [],
   "source": [
    "from typing import TypeVar, List\n",
    "\n",
    "T = TypeVar('T')  # Declare a generic type\n",
    "\n",
    "def first_element(items: List[T]) -> T:\n",
    "    return items[0]"
   ]
  },
  {
   "cell_type": "markdown",
   "metadata": {},
   "source": [
    "# 3.3 Implementing and Optimizing the Code\n",
    "p 25"
   ]
  },
  {
   "cell_type": "code",
   "execution_count": null,
   "metadata": {},
   "outputs": [
    {
     "name": "stdout",
     "output_type": "stream",
     "text": [
      "3 5 7 11 13 17 19 23 29 31 37 41 \n"
     ]
    }
   ],
   "source": [
    "from typing import Sequence, MutableSequence, TypeVar\n",
    "\n",
    "T = TypeVar(\"T\", bound=MutableSequence[bool]) # Add constraints with bound. Accept only mutable sequences of bool\n",
    "N = TypeVar(\"N\", int, float)  # Accept integers or floats for factor\n",
    "\n",
    "\n",
    "def mark_sieve(sieve: T, start: int, end: int, factor: N) -> None:\n",
    "    # Set the starting index to False\n",
    "    sieve[start] = False\n",
    "\n",
    "    # Mark every multiple of 'factor' starting from 'start + factor'\n",
    "    index = start + factor\n",
    "    while index < end:\n",
    "        sieve[index] = False\n",
    "        index += factor\n",
    "\n",
    "\n",
    "def sift0(sieve: T, n: N) -> None:\n",
    "    # Initialize all values to True\n",
    "    # ! It is important to understand that the initialization MUST use a slow for loop which works for any Mutable Sequence of bool\n",
    "    # ! We could be much faster if we know the type. Example : sieve[:] = [True] * n with a list, sieve.fill(True) with an array.array, etc.\n",
    "    # The key point is that in C++ we pass an iterator on which std::fill can be applied (see std::fill(first, first + n, true);)\n",
    "    # While in Python we pass a reference to a Mutable Sequence of Bool which can be modified in place \n",
    "    # There are iterators in Python but they are read-only and can't be used in this context\n",
    "    # Double check 03_ancient_greek_number_theory\\cpp\\my_ch03.cpp\n",
    "    for i in range(n):\n",
    "        sieve[i] = True\n",
    "\n",
    "    i = 0 # In C++ i is of type N (Integer)\n",
    "    index_square = 3 # the index of the first value we want to mark. It is the square of the current factor\n",
    "    while index_square < n:\n",
    "        # Invariant: index_square = 2*i^2 + 6*i + 3\n",
    "        if sieve[i]:\n",
    "            mark_sieve(sieve, index_square, n, 2 * i + 3)\n",
    "        i += 1\n",
    "        index_square = 2 * i * (i + 3) + 3\n",
    "\n",
    "\n",
    "\n",
    "n = 20\n",
    "is_prime = [False] * n  # Could be a list, array.array, numpy array, etc.\n",
    "\n",
    "sift0(is_prime, n)\n",
    "\n",
    "for i in range(n):\n",
    "    if is_prime[i]:\n",
    "        # calculate the prime number from the index\n",
    "        print(2 * i + 3, end=\" \")\n",
    "print()\n"
   ]
  },
  {
   "cell_type": "markdown",
   "metadata": {},
   "source": [
    "p 26"
   ]
  },
  {
   "cell_type": "code",
   "execution_count": null,
   "metadata": {},
   "outputs": [
    {
     "name": "stdout",
     "output_type": "stream",
     "text": [
      "3 5 7 11 13 17 19 23 29 31 37 41 43 47 53 59 61 67 71 73 79 83 89 97 101 103 107 109 113 127 131 137 139 149 151 157 163 167 173 179 181 191 193 197 199 \n"
     ]
    }
   ],
   "source": [
    "from typing import Sequence, MutableSequence, TypeVar\n",
    "\n",
    "T = TypeVar(\"T\", bound=MutableSequence[bool]) \n",
    "N = TypeVar(\"N\", int, float)  \n",
    "\n",
    "def mark_sieve(sieve: T, start: int, end: int, factor: N) -> None:\n",
    "    sieve[start] = False\n",
    "\n",
    "    index = start + factor\n",
    "    while index < end:\n",
    "        sieve[index] = False\n",
    "        index += factor\n",
    "\n",
    "\n",
    "def sift1(sieve: T, n: N) -> None:\n",
    "    # last = frist + n\n",
    "    # std::fill(first, last, true);\n",
    "    for i in range(n):\n",
    "        sieve[i] = True\n",
    "\n",
    "    i = 0\n",
    "    index_square = 3\n",
    "    factor = 3\n",
    "    while index_square < n:\n",
    "        if sieve[i]:\n",
    "            # mark_sieve(sieve, index_square, n, 2 * i + 3)\n",
    "            mark_sieve(sieve, index_square, n, factor)\n",
    "        i += 1\n",
    "        factor = i+i+3\n",
    "        index_square = 2 * i * (i + 3) + 3\n",
    "\n",
    "n = 100\n",
    "is_prime = [False] * n  \n",
    "\n",
    "sift1(is_prime, n)\n",
    "\n",
    "for i in range(n):\n",
    "    if is_prime[i]:\n",
    "        print(2 * i + 3, end=\" \")\n",
    "print()\n"
   ]
  },
  {
   "cell_type": "markdown",
   "metadata": {},
   "source": [
    "p 27\n",
    "\n",
    "* <span style=\"color:orange\"><b>strengh reduction</b></span>\n",
    "    * Replace complex operation with lite addition\n",
    "    * factor = factor + ???\n",
    "    * index_square = index_square + ???"
   ]
  },
  {
   "cell_type": "code",
   "execution_count": 7,
   "metadata": {},
   "outputs": [
    {
     "name": "stdout",
     "output_type": "stream",
     "text": [
      "3 5 7 11 13 17 19 23 29 31 37 41 43 47 \n"
     ]
    }
   ],
   "source": [
    "from typing import Sequence, MutableSequence, TypeVar\n",
    "\n",
    "T = TypeVar(\"T\", bound=MutableSequence[bool]) \n",
    "N = TypeVar(\"N\", int, float)  \n",
    "\n",
    "def mark_sieve(sieve: T, start: int, end: int, factor: N) -> None:\n",
    "    sieve[start] = False\n",
    "\n",
    "    index = start + factor\n",
    "    while index < end:\n",
    "        sieve[index] = False\n",
    "        index += factor\n",
    "\n",
    "\n",
    "def sift2(sieve: T, n: N) -> None:\n",
    "    for i in range(n):\n",
    "        sieve[i] = True\n",
    "\n",
    "    i = 0\n",
    "    index_square = 3\n",
    "    factor = 3\n",
    "    while index_square < n:\n",
    "        if sieve[i]:\n",
    "            # mark_sieve(sieve, index_square, n, 2 * i + 3)\n",
    "            mark_sieve(sieve, index_square, n, factor)\n",
    "        i += 1\n",
    "        index_square += factor\n",
    "        factor += 2\n",
    "        index_square += factor\n",
    "\n",
    "n = 25\n",
    "is_prime = [False] * n  \n",
    "\n",
    "sift2(is_prime, n)\n",
    "\n",
    "for i in range(n):\n",
    "    if is_prime[i]:\n",
    "        print(2 * i + 3, end=\" \")\n",
    "print()\n"
   ]
  },
  {
   "cell_type": "markdown",
   "metadata": {},
   "source": [
    "# 3.4 Perfect Numbers\n",
    "p 28\n",
    "\n",
    "when it is equal to the sum of its divisors\n",
    "\n",
    "6 = 1+2+3"
   ]
  },
  {
   "cell_type": "markdown",
   "metadata": {},
   "source": [
    "# 3.5 Pythagorean Program\n",
    "p 32\n",
    "\n",
    "Greatest Common Measure\n"
   ]
  },
  {
   "cell_type": "code",
   "execution_count": 8,
   "metadata": {},
   "outputs": [
    {
     "data": {
      "text/plain": [
       "14"
      ]
     },
     "execution_count": 8,
     "metadata": {},
     "output_type": "execute_result"
    }
   ],
   "source": [
    "def gcm(a: int, b: int) -> int:\n",
    "    if a==b : return a\n",
    "    if b<a : return gcm(a-b, b)\n",
    "    # a<b\n",
    "    return gcm(a, b-a)\n",
    "\n",
    "\n",
    "gcm(196, 42) # 14\n"
   ]
  }
 ],
 "metadata": {
  "kernelspec": {
   "display_name": "base",
   "language": "python",
   "name": "python3"
  },
  "language_info": {
   "codemirror_mode": {
    "name": "ipython",
    "version": 3
   },
   "file_extension": ".py",
   "mimetype": "text/x-python",
   "name": "python",
   "nbconvert_exporter": "python",
   "pygments_lexer": "ipython3",
   "version": "3.12.4"
  }
 },
 "nbformat": 4,
 "nbformat_minor": 2
}
