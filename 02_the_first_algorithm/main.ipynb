{
 "cells": [
  {
   "cell_type": "markdown",
   "metadata": {},
   "source": [
    "# 2.1 Egyptian Multiplication\n",
    "p 8"
   ]
  },
  {
   "cell_type": "code",
   "execution_count": 1,
   "metadata": {},
   "outputs": [],
   "source": [
    "# 1 * a = a\n",
    "# (n+1) * a = a + na\n",
    "# a and n must be positive integers\n",
    "# Egyptian Multiplication\n",
    "# Russina Peasant Multiplication\n",
    "def multiply0(n, a):\n",
    "    print(\"multiply0\")\n",
    "    if(n==1):\n",
    "        return a\n",
    "    return(a+multiply0(n-1, a))"
   ]
  },
  {
   "cell_type": "code",
   "execution_count": 2,
   "metadata": {},
   "outputs": [
    {
     "name": "stdout",
     "output_type": "stream",
     "text": [
      "multiply0\n",
      "multiply0\n",
      "multiply0\n",
      "multiply0\n",
      "multiply0\n",
      "15\n",
      "multiply0\n",
      "multiply0\n",
      "multiply0\n",
      "15\n"
     ]
    }
   ],
   "source": [
    "# The order of opands matters\n",
    "# In one case 5 recursive calls are made\n",
    "# In other case only 3 recursive calls are made\n",
    "# O(n)\n",
    "print(multiply0(5, 3))\n",
    "print(multiply0(3, 5))"
   ]
  },
  {
   "cell_type": "code",
   "execution_count": 3,
   "metadata": {},
   "outputs": [],
   "source": [
    "def half(n):\n",
    "    return n>>1\n",
    "\n",
    "def odd(n):\n",
    "    return n & 0x1"
   ]
  },
  {
   "cell_type": "code",
   "execution_count": null,
   "metadata": {},
   "outputs": [],
   "source": [
    "bob = half(15)\n",
    "bob = half(14)\n",
    "bob = half(13)\n",
    "bob = half(12)"
   ]
  },
  {
   "cell_type": "markdown",
   "metadata": {},
   "source": [
    "$log_2(x) = \\frac{ln(x)}{ln(2)}$\n",
    "\n",
    "$log_2(5) = 2.32$\n",
    "\n",
    "$log_2(3) = 1.58$\n",
    "\n",
    "$log_2(8) = 3$ \n",
    "\n",
    "$log_2(4) = 2$ "
   ]
  },
  {
   "cell_type": "code",
   "execution_count": 4,
   "metadata": {},
   "outputs": [],
   "source": [
    "# O(log(n))\n",
    "# We went from O(n) to O(log(n))\n",
    "def multiply1(n, a):\n",
    "    print(\"multiply1\")\n",
    "    if(n==1):\n",
    "        return a\n",
    "    result = multiply1(half(n), a+a)\n",
    "    if odd(n):\n",
    "        result = result + a\n",
    "    return result"
   ]
  },
  {
   "cell_type": "code",
   "execution_count": 5,
   "metadata": {},
   "outputs": [
    {
     "name": "stdout",
     "output_type": "stream",
     "text": [
      "multiply1\n",
      "multiply1\n",
      "multiply1\n",
      "15\n",
      "multiply1\n",
      "multiply1\n",
      "15\n",
      "multiply1\n",
      "multiply1\n",
      "multiply1\n",
      "multiply1\n",
      "32\n"
     ]
    }
   ],
   "source": [
    "print(multiply1(5, 3))\n",
    "print(multiply1(3, 5))\n",
    "print(multiply1(8, 4))"
   ]
  },
  {
   "cell_type": "code",
   "execution_count": 6,
   "metadata": {},
   "outputs": [],
   "source": [
    "# Addition chain\n",
    "# Optimal addition for 15\n",
    "def multiply_by_15(a):\n",
    "    b= (a+a)+a # 3a\n",
    "    c= b+b  # 6a\n",
    "    return (c+c)+b # 12a+3a=15a"
   ]
  },
  {
   "cell_type": "code",
   "execution_count": 7,
   "metadata": {},
   "outputs": [
    {
     "data": {
      "text/plain": [
       "45"
      ]
     },
     "execution_count": 7,
     "metadata": {},
     "output_type": "execute_result"
    }
   ],
   "source": [
    "multiply_by_15(3)\n"
   ]
  },
  {
   "cell_type": "markdown",
   "metadata": {},
   "source": [
    "# 2.2 Improving Algorithm\n",
    "p 11"
   ]
  },
  {
   "cell_type": "code",
   "execution_count": 8,
   "metadata": {},
   "outputs": [],
   "source": [
    "# multiplicaztion1 => log(n) recurcive calls\n",
    "# we are going to compute r + na\n",
    "# Running result that accumulates partial multiplications (na)\n",
    "# multiply_accumulate\n",
    "\n",
    "def mult_acc0(r, n, a):\n",
    "    print(\"mult_acc0\")\n",
    "    if n==1:\n",
    "        return r+a\n",
    "    if(odd(n)):\n",
    "        return mult_acc0(r+a, half(n), a+a)\n",
    "    else:\n",
    "        return mult_acc0(r, half(n), a+a)\n",
    "\n",
    "# Invariant r+na = r0 + n0a0\n"
   ]
  },
  {
   "cell_type": "code",
   "execution_count": 9,
   "metadata": {},
   "outputs": [
    {
     "name": "stdout",
     "output_type": "stream",
     "text": [
      "mult_acc0\n",
      "mult_acc0\n",
      "mult_acc0\n",
      "mult_acc0\n",
      "45\n"
     ]
    }
   ],
   "source": [
    "r = 0\n",
    "n= 15\n",
    "a = 3\n",
    "result = mult_acc0(r, n, a)\n",
    "print(result)"
   ]
  },
  {
   "cell_type": "code",
   "execution_count": 10,
   "metadata": {},
   "outputs": [],
   "source": [
    "# The 2 recursive calls differs only in their first argument\n",
    "# Let's modify r BEFORE the recursive call\n",
    "def mult_acc1(r, n, a):\n",
    "    print(\"mult_acc1\")\n",
    "    if n==1:\n",
    "        return r+a\n",
    "    if(odd(n)):\n",
    "        r = r+a\n",
    "    return mult_acc1(r, half(n), a+a)\n",
    "    "
   ]
  },
  {
   "cell_type": "code",
   "execution_count": 11,
   "metadata": {},
   "outputs": [
    {
     "name": "stdout",
     "output_type": "stream",
     "text": [
      "mult_acc1\n",
      "mult_acc1\n",
      "mult_acc1\n",
      "mult_acc1\n",
      "45\n"
     ]
    }
   ],
   "source": [
    "r = 0\n",
    "n= 15\n",
    "a = 3\n",
    "result = mult_acc1(r, n, a)\n",
    "print(result)"
   ]
  },
  {
   "cell_type": "code",
   "execution_count": 12,
   "metadata": {},
   "outputs": [],
   "source": [
    "# The function is \n",
    "# !     tail recursive\n",
    "# Rucursion happen ONLY in the return value\n",
    "\n",
    "# In addition\n",
    "# 1 - n is not equal to 1 often\n",
    "# 2 - if n is even, makes no sense check if it is equal to 1 (=> check if 1 iff n is odd)\n",
    "\n",
    "\n",
    "def mult_acc2(r, n, a):\n",
    "    print(\"mult_acc2\")\n",
    "    if(odd(n)):\n",
    "        r = r+a\n",
    "        if n==1:\n",
    "            return r\n",
    "    return mult_acc2(r, half(n), a+a)\n",
    "\n"
   ]
  },
  {
   "cell_type": "code",
   "execution_count": 13,
   "metadata": {},
   "outputs": [
    {
     "name": "stdout",
     "output_type": "stream",
     "text": [
      "mult_acc2\n",
      "mult_acc2\n",
      "mult_acc2\n",
      "mult_acc2\n",
      "45\n"
     ]
    }
   ],
   "source": [
    "r = 0\n",
    "n= 15\n",
    "a = 3\n",
    "result = mult_acc2(r, n, a)\n",
    "print(result)"
   ]
  },
  {
   "cell_type": "markdown",
   "metadata": {},
   "source": [
    "**Definition** : A **strictly tail-recursive** procedure is one in which all the tail-recursive calls are done with the formal parameters of the procedure being the corresponding arguments."
   ]
  },
  {
   "cell_type": "code",
   "execution_count": 14,
   "metadata": {},
   "outputs": [
    {
     "name": "stdout",
     "output_type": "stream",
     "text": [
      "mult_acc3\n",
      "mult_acc3\n",
      "mult_acc3\n",
      "mult_acc3\n",
      "45\n"
     ]
    }
   ],
   "source": [
    "def mult_acc3(r, n, a):\n",
    "    print(\"mult_acc3\")\n",
    "    if(odd(n)):\n",
    "        r = r+a\n",
    "        if n==1:\n",
    "            return r\n",
    "    n = half(n)\n",
    "    a = a+a\n",
    "    return mult_acc3(r, n, a)\n",
    "\n",
    "r = 0\n",
    "n= 15\n",
    "a = 3\n",
    "result = mult_acc3(r, n, a)\n",
    "print(result)\n"
   ]
  },
  {
   "cell_type": "markdown",
   "metadata": {},
   "source": [
    "Convert the recursive program to iterative\n",
    "\n",
    "Replace the tail recursion with ``while(True)``"
   ]
  },
  {
   "cell_type": "code",
   "execution_count": 23,
   "metadata": {},
   "outputs": [
    {
     "name": "stdout",
     "output_type": "stream",
     "text": [
      "mult_acc4\n",
      "mult_acc4\n",
      "mult_acc4\n",
      "mult_acc4\n",
      "45\n"
     ]
    }
   ],
   "source": [
    "def mult_acc4(r, n, a):\n",
    "    while(True):\n",
    "        print(\"mult_acc4\")\n",
    "        if(odd(n)):\n",
    "            r = r+a\n",
    "            if n==1:\n",
    "                return r\n",
    "        n = half(n)\n",
    "        a = a+a\n",
    "\n",
    "r = 0\n",
    "n= 15\n",
    "a = 3\n",
    "result = mult_acc4(r, n, a)\n",
    "print(result)\n"
   ]
  },
  {
   "cell_type": "code",
   "execution_count": 27,
   "metadata": {},
   "outputs": [
    {
     "name": "stdout",
     "output_type": "stream",
     "text": [
      "mult_acc4\n",
      "mult_acc4\n",
      "mult_acc4\n",
      "mult_acc4\n",
      "45\n"
     ]
    }
   ],
   "source": [
    "def multiply2(n, a):\n",
    "    if n==1:\n",
    "        return a\n",
    "    # set the result to a and n to n-1\n",
    "    return mult_acc4(a, n-1, a)\n",
    "    # return mult_acc4(0, n, a)\n",
    "\n",
    "res = multiply2(15, 3)\n",
    "print(res)"
   ]
  },
  {
   "cell_type": "code",
   "execution_count": null,
   "metadata": {},
   "outputs": [
    {
     "name": "stdout",
     "output_type": "stream",
     "text": [
      "mult_acc4\n",
      "mult_acc4\n",
      "mult_acc4\n",
      "mult_acc4\n",
      "mult_acc4\n",
      "96\n"
     ]
    }
   ],
   "source": [
    "# In mutiply2 we substract 1 to n\n",
    "# When n is is even this means the binary representation of n is full of 1s  \n",
    "# This means in mult_acc4 we will always have to go through the odd(n) condition\n",
    "res = multiply2(32, 3)\n",
    "print(res)"
   ]
  },
  {
   "cell_type": "code",
   "execution_count": null,
   "metadata": {},
   "outputs": [
    {
     "name": "stdout",
     "output_type": "stream",
     "text": [
      "96\n"
     ]
    }
   ],
   "source": [
    "# We avoid to go through the odd(n) condition in mult_acc4() with some pre-work when n is even\n",
    "# We double a and divide n by 2 until n is odd \n",
    "def multiply3(n, a):\n",
    "    while (not odd(n)):\n",
    "        a = a+a\n",
    "        n = half(n)\n",
    "    if n==1:\n",
    "        return a\n",
    "    return mult_acc4(a, n-1, a)\n",
    "\n"
   ]
  },
  {
   "cell_type": "code",
   "execution_count": null,
   "metadata": {},
   "outputs": [
    {
     "name": "stdout",
     "output_type": "stream",
     "text": [
      "96\n",
      "\n",
      "mult_acc4\n",
      "mult_acc4\n",
      "mult_acc4\n",
      "mult_acc4\n",
      "mult_acc4\n",
      "mult_acc4\n",
      "99\n"
     ]
    }
   ],
   "source": [
    "# Now when n is even mult_acc4() is not called\n",
    "res = multiply3(32, 3)\n",
    "print(res)\n",
    "\n",
    "print()\n",
    "# mult_acc4() is called only when n is odd\n",
    "res = multiply3(33, 3)\n",
    "print(res)"
   ]
  },
  {
   "cell_type": "code",
   "execution_count": null,
   "metadata": {},
   "outputs": [
    {
     "name": "stdout",
     "output_type": "stream",
     "text": [
      "96\n"
     ]
    }
   ],
   "source": [
    "# We call mult_acc4() only when n is odd so that (n-1) is even\n",
    "# So we can do the halving and doubling BEFORE the call to mult_acc4()\n",
    "# Doing so we avoid one \"if odd(n)\" test in mult_acc4()\n",
    "\n",
    "\n",
    "def multiply4(n, a):\n",
    "    while (not odd(n)):\n",
    "        a = a+a\n",
    "        n = half(n)\n",
    "    if n==1:\n",
    "        return a\n",
    "    # ! note the half(n-1) and the a+a below\n",
    "    return mult_acc4(a, half(n-1), a+a)\n",
    "\n"
   ]
  },
  {
   "cell_type": "code",
   "execution_count": null,
   "metadata": {},
   "outputs": [
    {
     "name": "stdout",
     "output_type": "stream",
     "text": [
      "96\n",
      "\n",
      "mult_acc4\n",
      "mult_acc4\n",
      "mult_acc4\n",
      "mult_acc4\n",
      "mult_acc4\n",
      "99\n"
     ]
    }
   ],
   "source": [
    "res = multiply4(32, 3)\n",
    "print(res)\n",
    "\n",
    "print()\n",
    "\n",
    "# In the output we now have 5 calls to mult_acc4() instead of 6\n",
    "res = multiply4(33, 3)\n",
    "print(res)"
   ]
  }
 ],
 "metadata": {
  "kernelspec": {
   "display_name": "base",
   "language": "python",
   "name": "python3"
  },
  "language_info": {
   "codemirror_mode": {
    "name": "ipython",
    "version": 3
   },
   "file_extension": ".py",
   "mimetype": "text/x-python",
   "name": "python",
   "nbconvert_exporter": "python",
   "pygments_lexer": "ipython3",
   "version": "3.12.4"
  }
 },
 "nbformat": 4,
 "nbformat_minor": 2
}
